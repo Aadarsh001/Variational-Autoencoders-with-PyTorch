{
 "cells": [
  {
   "cell_type": "code",
   "execution_count": 1,
   "id": "1489b4a1-9245-4409-acc8-d93817250514",
   "metadata": {
    "id": "1489b4a1-9245-4409-acc8-d93817250514"
   },
   "outputs": [],
   "source": [
    "\n",
    "from IPython import embed"
   ]
  },
  {
   "cell_type": "code",
   "execution_count": 2,
   "id": "97121c18-3750-4fb5-8277-8363f00ec311",
   "metadata": {
    "id": "97121c18-3750-4fb5-8277-8363f00ec311"
   },
   "outputs": [],
   "source": [
    "# Imports\n",
    "import numpy as np\n",
    "import matplotlib.pyplot as plt\n",
    "from mpl_toolkits.mplot3d import Axes3D\n",
    "from sklearn import datasets\n",
    "from sklearn.cluster import KMeans\n",
    "from sklearn.datasets import make_blobs\n",
    "from sklearn.metrics import silhouette_samples, silhouette_score\n",
    "import matplotlib.cm as cm\n",
    "import cv2\n"
   ]
  },
  {
   "cell_type": "code",
   "execution_count": 3,
   "id": "f7d9aa35-32cd-48d7-be37-d614bd33ce0b",
   "metadata": {
    "id": "f7d9aa35-32cd-48d7-be37-d614bd33ce0b"
   },
   "outputs": [],
   "source": [
    "import torch\n",
    "import torchvision\n",
    "import torchvision.transforms as transforms\n",
    "from torchvision.datasets import CIFAR10\n",
    "from torchvision.transforms import ToTensor\n",
    "import torch.nn as nn\n",
    "import torch.nn.functional as F\n",
    "\n"
   ]
  },
  {
   "cell_type": "code",
   "execution_count": 4,
   "id": "5242ef4a-ab5c-4687-971f-e82bd58ec059",
   "metadata": {
    "colab": {
     "base_uri": "https://localhost:8080/",
     "height": 154,
     "referenced_widgets": [
      "a16d6be6fc2c47ecaaaf6d87d3471ca4",
      "3dc61d445084492bb9f17d2f7157c2f6",
      "fb6727955e654298bbf180466e09d7ef",
      "8704351f1bb64604b34d1d28a355e0bd",
      "6cd1e59d7f3349019aea2b4cb0e61dd9",
      "e971734eefb240949b5b06a8230fdb1d",
      "6e14f9e1c09849a09a0ca9cb78f4cb14",
      "aa28ab4013c74b6184e4cefe79794dfa",
      "7f8ac8c9124c44a3a1c48b6033cec862",
      "deac2ac39a874dbcbf05c4eaccbc1035",
      "4c0d7a37f88f45dbbfa518e99eda5a20"
     ]
    },
    "id": "5242ef4a-ab5c-4687-971f-e82bd58ec059",
    "outputId": "3eda3dd7-fe6e-4854-f333-973da27c53bc"
   },
   "outputs": [
    {
     "name": "stdout",
     "output_type": "stream",
     "text": [
      "Files already downloaded and verified\n",
      "Files already downloaded and verified\n",
      "Files already downloaded and verified\n",
      "Files already downloaded and verified\n"
     ]
    }
   ],
   "source": [
    "\n",
    "trainTransform  = torchvision.transforms.Compose([torchvision.transforms.Grayscale(num_output_channels=1),\n",
    "                                    torchvision.transforms.ToTensor()])\n",
    "batch_size = 16\n",
    "\n",
    "trainset_rgb = torchvision.datasets.CIFAR10(root='./data', train=True,\n",
    "                                        download=True, transform=ToTensor())\n",
    "trainset_gray = torchvision.datasets.CIFAR10(root='./data', train=True,\n",
    "                                        download=True, transform=trainTransform)\n",
    "train_rgb = torch.utils.data.DataLoader(trainset_rgb, batch_size=batch_size,\n",
    "                                          shuffle=True, num_workers=2)\n",
    "train_gray = torch.utils.data.DataLoader(trainset_gray, batch_size=batch_size,\n",
    "                                          shuffle=True, num_workers=2)\n",
    "\n",
    "testset_gray = torchvision.datasets.CIFAR10(root='./data', train=False,\n",
    "                                        download=True, transform=trainTransform)\n",
    "test_gray = torch.utils.data.DataLoader(trainset_gray, batch_size=batch_size,\n",
    "                                          shuffle=True, num_workers=2)\n",
    "\n",
    "testset = torchvision.datasets.CIFAR10(root='./data', train=False,\n",
    "                                       download=True)#, transform=ToTensor())\n",
    "testloader = torch.utils.data.DataLoader(testset, batch_size=batch_size,\n",
    "                                         shuffle=False, num_workers=2)\n",
    "\n",
    "\n",
    "\n",
    "classes = ('plane', 'car', 'bird', 'cat',\n",
    "           'deer', 'dog', 'frog', 'horse', 'ship', 'truck')"
   ]
  },
  {
   "cell_type": "markdown",
   "id": "5ecbf20e-5da0-4c97-b08e-bb5c417a4971",
   "metadata": {
    "id": "8ff5c8e3-df6b-41ce-9643-5d6fde08c9fe"
   },
   "source": [
    "Auto-Encoder\n",
    "\n"
   ]
  },
  {
   "cell_type": "code",
   "execution_count": 5,
   "id": "849dcbe9-4bf7-419a-ac1d-fd7727406bbb",
   "metadata": {
    "id": "849dcbe9-4bf7-419a-ac1d-fd7727406bbb"
   },
   "outputs": [],
   "source": [
    "class AutoEncoder(nn.Module):\n",
    "    def __init__(self):\n",
    "        super().__init__()\n",
    "        \n",
    "        self.encoder = nn.Sequential(\n",
    "            nn.Linear(32*32*3, 512),\n",
    "            nn.ReLU(),\n",
    "            nn.Linear(512,256),\n",
    "            nn.ReLU(),\n",
    "            nn.Linear(256,128),\n",
    "            nn.ReLU(),\n",
    "            nn.Linear(128, 64),\n",
    "            nn.ReLU(),\n",
    "            nn.Linear(64, 32)\n",
    "        )\n",
    "        \n",
    "        self.decoder = nn.Sequential(\n",
    "            nn.Linear(32, 64),\n",
    "            nn.ReLU(),\n",
    "            nn.Linear(64, 128),\n",
    "            nn.ReLU(),\n",
    "            nn.Linear(128, 256),\n",
    "            nn.ReLU(),\n",
    "            nn.Linear(256, 512),\n",
    "            nn.ReLU(),\n",
    "            nn.Linear(512, 32*32*3),\n",
    "            nn.Sigmoid()\n",
    "            \n",
    "        )\n",
    "\n",
    "    def forward(self, x):\n",
    "        img_encoded = self.encoder(x)\n",
    "        img_decoded = self.decoder(img_encoded)\n",
    "        return img_encoded,img_decoded\n",
    "    \n",
    "autoencoder = AutoEncoder()"
   ]
  },
  {
   "cell_type": "code",
   "execution_count": 6,
   "id": "4f73aec3-6be3-4fb3-bf03-5905546b3799",
   "metadata": {
    "id": "4f73aec3-6be3-4fb3-bf03-5905546b3799"
   },
   "outputs": [],
   "source": [
    "import torch.optim as optim\n",
    "\n",
    "cross_entropy_loss = nn.CrossEntropyLoss()\n",
    "MSE_loss = torch.nn.MSELoss()\n",
    "optimizer_SGD = optim.SGD(autoencoder.parameters(), lr=0.001, momentum=0.5)\n",
    "optimizer = torch.optim.Adam(autoencoder.parameters(),\n",
    "                             lr = 1e-4,\n",
    "                             weight_decay = 1e-5)"
   ]
  },
  {
   "cell_type": "code",
   "execution_count": 8,
   "id": "eee23c05-dbfe-4fd0-936c-3a57a44e87ad",
   "metadata": {
    "id": "eee23c05-dbfe-4fd0-936c-3a57a44e87ad"
   },
   "outputs": [],
   "source": [
    "\n",
    "epochs = 100"
   ]
  },
  {
   "cell_type": "markdown",
   "id": "tTbE_GznmSBp",
   "metadata": {
    "id": "tTbE_GznmSBp"
   },
   "source": [
    "# New Section"
   ]
  },
  {
   "cell_type": "code",
   "execution_count": 9,
   "id": "93182a6c-0e90-4b73-8c1a-09c9d1936c98",
   "metadata": {
    "colab": {
     "base_uri": "https://localhost:8080/",
     "height": 562
    },
    "id": "93182a6c-0e90-4b73-8c1a-09c9d1936c98",
    "outputId": "ec4a3383-4adf-4fc2-f2d4-4bd4a62f951c",
    "tags": []
   },
   "outputs": [
    {
     "name": "stdout",
     "output_type": "stream",
     "text": [
      "[   35] loss: 0.0027415281\n",
      "[   36] loss: 0.0023557618\n",
      "[   37] loss: 0.0028119782\n"
     ]
    },
    {
     "ename": "KeyboardInterrupt",
     "evalue": "",
     "output_type": "error",
     "traceback": [
      "\u001b[0;31m---------------------------------------------------------------------------\u001b[0m",
      "\u001b[0;31mKeyboardInterrupt\u001b[0m                         Traceback (most recent call last)",
      "\u001b[0;32m/var/folders/w5/kksgfjf13x3g8sx7lr4h1ts00000gn/T/ipykernel_1646/3337936889.py\u001b[0m in \u001b[0;36m<module>\u001b[0;34m\u001b[0m\n\u001b[1;32m     14\u001b[0m         \u001b[0mloss\u001b[0m \u001b[0;34m=\u001b[0m \u001b[0mMSE_loss\u001b[0m\u001b[0;34m(\u001b[0m\u001b[0moutput_im\u001b[0m\u001b[0;34m,\u001b[0m \u001b[0mimg\u001b[0m\u001b[0;34m)\u001b[0m\u001b[0;34m\u001b[0m\u001b[0;34m\u001b[0m\u001b[0m\n\u001b[1;32m     15\u001b[0m         \u001b[0mloss\u001b[0m\u001b[0;34m.\u001b[0m\u001b[0mbackward\u001b[0m\u001b[0;34m(\u001b[0m\u001b[0;34m)\u001b[0m\u001b[0;34m\u001b[0m\u001b[0;34m\u001b[0m\u001b[0m\n\u001b[0;32m---> 16\u001b[0;31m         \u001b[0moptimizer\u001b[0m\u001b[0;34m.\u001b[0m\u001b[0mstep\u001b[0m\u001b[0;34m(\u001b[0m\u001b[0;34m)\u001b[0m\u001b[0;34m\u001b[0m\u001b[0;34m\u001b[0m\u001b[0m\n\u001b[0m\u001b[1;32m     17\u001b[0m \u001b[0;34m\u001b[0m\u001b[0m\n\u001b[1;32m     18\u001b[0m         \u001b[0;31m# print statistics\u001b[0m\u001b[0;34m\u001b[0m\u001b[0;34m\u001b[0m\u001b[0;34m\u001b[0m\u001b[0m\n",
      "\u001b[0;32m~/miniforge3/lib/python3.9/site-packages/torch/optim/optimizer.py\u001b[0m in \u001b[0;36mwrapper\u001b[0;34m(*args, **kwargs)\u001b[0m\n\u001b[1;32m     86\u001b[0m                 \u001b[0mprofile_name\u001b[0m \u001b[0;34m=\u001b[0m \u001b[0;34m\"Optimizer.step#{}.step\"\u001b[0m\u001b[0;34m.\u001b[0m\u001b[0mformat\u001b[0m\u001b[0;34m(\u001b[0m\u001b[0mobj\u001b[0m\u001b[0;34m.\u001b[0m\u001b[0m__class__\u001b[0m\u001b[0;34m.\u001b[0m\u001b[0m__name__\u001b[0m\u001b[0;34m)\u001b[0m\u001b[0;34m\u001b[0m\u001b[0;34m\u001b[0m\u001b[0m\n\u001b[1;32m     87\u001b[0m                 \u001b[0;32mwith\u001b[0m \u001b[0mtorch\u001b[0m\u001b[0;34m.\u001b[0m\u001b[0mautograd\u001b[0m\u001b[0;34m.\u001b[0m\u001b[0mprofiler\u001b[0m\u001b[0;34m.\u001b[0m\u001b[0mrecord_function\u001b[0m\u001b[0;34m(\u001b[0m\u001b[0mprofile_name\u001b[0m\u001b[0;34m)\u001b[0m\u001b[0;34m:\u001b[0m\u001b[0;34m\u001b[0m\u001b[0;34m\u001b[0m\u001b[0m\n\u001b[0;32m---> 88\u001b[0;31m                     \u001b[0;32mreturn\u001b[0m \u001b[0mfunc\u001b[0m\u001b[0;34m(\u001b[0m\u001b[0;34m*\u001b[0m\u001b[0margs\u001b[0m\u001b[0;34m,\u001b[0m \u001b[0;34m**\u001b[0m\u001b[0mkwargs\u001b[0m\u001b[0;34m)\u001b[0m\u001b[0;34m\u001b[0m\u001b[0;34m\u001b[0m\u001b[0m\n\u001b[0m\u001b[1;32m     89\u001b[0m             \u001b[0;32mreturn\u001b[0m \u001b[0mwrapper\u001b[0m\u001b[0;34m\u001b[0m\u001b[0;34m\u001b[0m\u001b[0m\n\u001b[1;32m     90\u001b[0m \u001b[0;34m\u001b[0m\u001b[0m\n",
      "\u001b[0;32m~/miniforge3/lib/python3.9/site-packages/torch/autograd/grad_mode.py\u001b[0m in \u001b[0;36mdecorate_context\u001b[0;34m(*args, **kwargs)\u001b[0m\n\u001b[1;32m     26\u001b[0m         \u001b[0;32mdef\u001b[0m \u001b[0mdecorate_context\u001b[0m\u001b[0;34m(\u001b[0m\u001b[0;34m*\u001b[0m\u001b[0margs\u001b[0m\u001b[0;34m,\u001b[0m \u001b[0;34m**\u001b[0m\u001b[0mkwargs\u001b[0m\u001b[0;34m)\u001b[0m\u001b[0;34m:\u001b[0m\u001b[0;34m\u001b[0m\u001b[0;34m\u001b[0m\u001b[0m\n\u001b[1;32m     27\u001b[0m             \u001b[0;32mwith\u001b[0m \u001b[0mself\u001b[0m\u001b[0;34m.\u001b[0m\u001b[0m__class__\u001b[0m\u001b[0;34m(\u001b[0m\u001b[0;34m)\u001b[0m\u001b[0;34m:\u001b[0m\u001b[0;34m\u001b[0m\u001b[0;34m\u001b[0m\u001b[0m\n\u001b[0;32m---> 28\u001b[0;31m                 \u001b[0;32mreturn\u001b[0m \u001b[0mfunc\u001b[0m\u001b[0;34m(\u001b[0m\u001b[0;34m*\u001b[0m\u001b[0margs\u001b[0m\u001b[0;34m,\u001b[0m \u001b[0;34m**\u001b[0m\u001b[0mkwargs\u001b[0m\u001b[0;34m)\u001b[0m\u001b[0;34m\u001b[0m\u001b[0;34m\u001b[0m\u001b[0m\n\u001b[0m\u001b[1;32m     29\u001b[0m         \u001b[0;32mreturn\u001b[0m \u001b[0mcast\u001b[0m\u001b[0;34m(\u001b[0m\u001b[0mF\u001b[0m\u001b[0;34m,\u001b[0m \u001b[0mdecorate_context\u001b[0m\u001b[0;34m)\u001b[0m\u001b[0;34m\u001b[0m\u001b[0;34m\u001b[0m\u001b[0m\n\u001b[1;32m     30\u001b[0m \u001b[0;34m\u001b[0m\u001b[0m\n",
      "\u001b[0;32m~/miniforge3/lib/python3.9/site-packages/torch/optim/adam.py\u001b[0m in \u001b[0;36mstep\u001b[0;34m(self, closure)\u001b[0m\n\u001b[1;32m    105\u001b[0m                     \u001b[0mstate_steps\u001b[0m\u001b[0;34m.\u001b[0m\u001b[0mappend\u001b[0m\u001b[0;34m(\u001b[0m\u001b[0mstate\u001b[0m\u001b[0;34m[\u001b[0m\u001b[0;34m'step'\u001b[0m\u001b[0;34m]\u001b[0m\u001b[0;34m)\u001b[0m\u001b[0;34m\u001b[0m\u001b[0;34m\u001b[0m\u001b[0m\n\u001b[1;32m    106\u001b[0m \u001b[0;34m\u001b[0m\u001b[0m\n\u001b[0;32m--> 107\u001b[0;31m             F.adam(params_with_grad,\n\u001b[0m\u001b[1;32m    108\u001b[0m                    \u001b[0mgrads\u001b[0m\u001b[0;34m,\u001b[0m\u001b[0;34m\u001b[0m\u001b[0;34m\u001b[0m\u001b[0m\n\u001b[1;32m    109\u001b[0m                    \u001b[0mexp_avgs\u001b[0m\u001b[0;34m,\u001b[0m\u001b[0;34m\u001b[0m\u001b[0;34m\u001b[0m\u001b[0m\n",
      "\u001b[0;32m~/miniforge3/lib/python3.9/site-packages/torch/optim/_functional.py\u001b[0m in \u001b[0;36madam\u001b[0;34m(params, grads, exp_avgs, exp_avg_sqs, max_exp_avg_sqs, state_steps, amsgrad, beta1, beta2, lr, weight_decay, eps)\u001b[0m\n\u001b[1;32m     81\u001b[0m \u001b[0;34m\u001b[0m\u001b[0m\n\u001b[1;32m     82\u001b[0m         \u001b[0;32mif\u001b[0m \u001b[0mweight_decay\u001b[0m \u001b[0;34m!=\u001b[0m \u001b[0;36m0\u001b[0m\u001b[0;34m:\u001b[0m\u001b[0;34m\u001b[0m\u001b[0;34m\u001b[0m\u001b[0m\n\u001b[0;32m---> 83\u001b[0;31m             \u001b[0mgrad\u001b[0m \u001b[0;34m=\u001b[0m \u001b[0mgrad\u001b[0m\u001b[0;34m.\u001b[0m\u001b[0madd\u001b[0m\u001b[0;34m(\u001b[0m\u001b[0mparam\u001b[0m\u001b[0;34m,\u001b[0m \u001b[0malpha\u001b[0m\u001b[0;34m=\u001b[0m\u001b[0mweight_decay\u001b[0m\u001b[0;34m)\u001b[0m\u001b[0;34m\u001b[0m\u001b[0;34m\u001b[0m\u001b[0m\n\u001b[0m\u001b[1;32m     84\u001b[0m \u001b[0;34m\u001b[0m\u001b[0m\n\u001b[1;32m     85\u001b[0m         \u001b[0;31m# Decay the first and second moment running average coefficient\u001b[0m\u001b[0;34m\u001b[0m\u001b[0;34m\u001b[0m\u001b[0;34m\u001b[0m\u001b[0m\n",
      "\u001b[0;31mKeyboardInterrupt\u001b[0m: "
     ]
    }
   ],
   "source": [
    "\n",
    "for epoch in range(epochs):  # loop over the dataset multiple times\n",
    "    encoded_images = []\n",
    "    done = True\n",
    "    running_loss = 0.0\n",
    "    for img,label in train_rgb:\n",
    "        img = img.reshape(-1,32*32*3)\n",
    "\n",
    "        encoded_img, output_im = autoencoder(img)\n",
    "        encoded_images.append(encoded_img)\n",
    "\n",
    "        # zero the parameter gradients\n",
    "        optimizer.zero_grad()\n",
    "\n",
    "        loss = MSE_loss(output_im, img)\n",
    "        loss.backward()\n",
    "        optimizer.step()\n",
    "\n",
    "        # print statistics\n",
    "        running_loss += loss.item()\n",
    "        if epoch % 1 == 0 and done:    \n",
    "            print('[%5d] loss: %.10f' %\n",
    "                  (epoch + 35 , running_loss / 10))\n",
    "            running_loss = 0.0\n",
    "            done = False\n",
    "        \n",
    "\n",
    "print('Finished Training')"
   ]
  },
  {
   "cell_type": "code",
   "execution_count": 11,
   "id": "a4a8fe0f-9304-49b3-867d-fc04cc6b6262",
   "metadata": {
    "id": "a4a8fe0f-9304-49b3-867d-fc04cc6b6262"
   },
   "outputs": [],
   "source": [
    "# PATH_1 = './Cifar_34_c_53_w.pth'\n",
    "# opt_path = './Cifar_34_c_53_w_opt.pth'\n",
    "# torch.save(autoencoder.state_dict(), PATH_1)\n",
    "# torch.save(optimizer.state_dict(), opt_path)\n"
   ]
  },
  {
   "cell_type": "code",
   "execution_count": 12,
   "id": "0e63e5ba-c35f-469c-8fa6-339ce55e305a",
   "metadata": {
    "colab": {
     "base_uri": "https://localhost:8080/"
    },
    "id": "0e63e5ba-c35f-469c-8fa6-339ce55e305a",
    "outputId": "b55146d9-12d0-4d62-d975-e901153b695a"
   },
   "outputs": [
    {
     "name": "stdout",
     "output_type": "stream",
     "text": [
      "torch.Size([16, 3072])\n",
      "torch.Size([3072])\n",
      "torch.Size([3072])\n",
      "torch.Size([3072])\n",
      "torch.Size([3072])\n",
      "torch.Size([3072])\n",
      "torch.Size([3072])\n",
      "torch.Size([3072])\n",
      "torch.Size([3072])\n",
      "torch.Size([3072])\n",
      "torch.Size([3072])\n",
      "torch.Size([3072])\n",
      "torch.Size([3072])\n",
      "torch.Size([3072])\n",
      "torch.Size([3072])\n",
      "torch.Size([3072])\n",
      "torch.Size([3072])\n"
     ]
    }
   ],
   "source": [
    "from matplotlib import pyplot as plt\n",
    "%matplotlib inline\n",
    "for i,item in enumerate(img):\n",
    "#     print(item.shape)\n",
    "    item = item.reshape(3,32,32)\n",
    "    item = item.permute(1, 2, 0)\n",
    "    plt.imsave('{}.jpg'.format(i), item.numpy())#, cmap='gray')\n",
    "print(output_im.shape)\n",
    "# item_old = torch.tensor([0])\n",
    "for i,item in enumerate(output_im):\n",
    "    print(item.shape)\n",
    "    item = item.reshape(3,32,32)\n",
    "    item = item.permute(1, 2, 0)\n",
    "    plt.imsave('{}_r.jpg'.format(i), item.detach().numpy())#, cmap='gray')\n",
    "    if i>0 and torch.equal(item,item_old):\n",
    "        print('problem')\n",
    "    item_old = item\n",
    "    \n",
    "\n",
    "\n",
    "\n",
    "# plt.imshow(item[0])\n",
    "# plt.savefig('foo.png')\n",
    "# plt.show()\n",
    "# cv2.imwrite('k.jpg',item[0].numpy())"
   ]
  },
  {
   "cell_type": "code",
   "execution_count": 23,
   "id": "d30bfcf0-73bb-4a7d-b915-9e25af76cc7b",
   "metadata": {
    "colab": {
     "base_uri": "https://localhost:8080/"
    },
    "id": "d30bfcf0-73bb-4a7d-b915-9e25af76cc7b",
    "outputId": "c5c3082c-7535-4e01-b42f-03e95738b465"
   },
   "outputs": [],
   "source": [
    "encoded_images = []\n",
    "for img,label in train_rgb:\n",
    "    img = img.reshape(-1,32*32*3)\n",
    "#         print(img.shape)\n",
    "    encoded_img, output_im = autoencoder(img)\n",
    "    for i,item in enumerate(encoded_img):\n",
    "      encoded_images.append(item.detach().numpy())\n",
    "encoded_images = np.array(encoded_images)"
   ]
  },
  {
   "cell_type": "code",
   "execution_count": 24,
   "id": "3aa3570e-fe21-4a6b-9b24-25e28b77413f",
   "metadata": {
    "colab": {
     "base_uri": "https://localhost:8080/"
    },
    "id": "3aa3570e-fe21-4a6b-9b24-25e28b77413f",
    "outputId": "87b06e2c-33fb-45d9-a000-9dc429cfc8d4"
   },
   "outputs": [],
   "source": [
    "from sklearn.cluster import KMeans\n",
    "\n",
    "skmean = KMeans(\n",
    "    n_clusters=3, init='random',\n",
    "    n_init=10, max_iter=300, \n",
    "    tol=1e-04, random_state=0\n",
    ")"
   ]
  },
  {
   "cell_type": "code",
   "execution_count": 25,
   "id": "43a25e0d-dc40-4e58-850f-c04ff6c4b16c",
   "metadata": {
    "id": "43a25e0d-dc40-4e58-850f-c04ff6c4b16c",
    "outputId": "3d4109e1-af1a-45cc-8bb9-ba1d1dd218b8"
   },
   "outputs": [],
   "source": [
    "predict = skmean.fit_predict(encoded_images)"
   ]
  },
  {
   "cell_type": "code",
   "execution_count": 26,
   "id": "80796263-019b-4964-a9d2-7f82a783a8e6",
   "metadata": {
    "colab": {
     "base_uri": "https://localhost:8080/"
    },
    "id": "80796263-019b-4964-a9d2-7f82a783a8e6",
    "outputId": "c7013c93-cf51-4a79-9844-c2a8acb895cf"
   },
   "outputs": [
    {
     "data": {
      "text/plain": [
       "0.26556563"
      ]
     },
     "execution_count": 26,
     "metadata": {},
     "output_type": "execute_result"
    }
   ],
   "source": [
    "from sklearn.metrics import silhouette_samples, silhouette_score\n",
    "silhouette_score(encoded_images,predict)"
   ]
  },
  {
   "cell_type": "code",
   "execution_count": null,
   "id": "UxAT37vQACEU",
   "metadata": {
    "id": "UxAT37vQACEU"
   },
   "outputs": [],
   "source": []
  }
 ],
 "metadata": {
  "colab": {
   "collapsed_sections": [],
   "name": "aadarshg_Assignment2_checkpoint.ipynb",
   "provenance": []
  },
  "kernelspec": {
   "display_name": "Python 3 (ipykernel)",
   "language": "python",
   "name": "python3"
  },
  "language_info": {
   "codemirror_mode": {
    "name": "ipython",
    "version": 3
   },
   "file_extension": ".py",
   "mimetype": "text/x-python",
   "name": "python",
   "nbconvert_exporter": "python",
   "pygments_lexer": "ipython3",
   "version": "3.9.6"
  },
  "widgets": {
   "application/vnd.jupyter.widget-state+json": {
    "3dc61d445084492bb9f17d2f7157c2f6": {
     "model_module": "@jupyter-widgets/base",
     "model_module_version": "1.2.0",
     "model_name": "LayoutModel",
     "state": {
      "_model_module": "@jupyter-widgets/base",
      "_model_module_version": "1.2.0",
      "_model_name": "LayoutModel",
      "_view_count": null,
      "_view_module": "@jupyter-widgets/base",
      "_view_module_version": "1.2.0",
      "_view_name": "LayoutView",
      "align_content": null,
      "align_items": null,
      "align_self": null,
      "border": null,
      "bottom": null,
      "display": null,
      "flex": null,
      "flex_flow": null,
      "grid_area": null,
      "grid_auto_columns": null,
      "grid_auto_flow": null,
      "grid_auto_rows": null,
      "grid_column": null,
      "grid_gap": null,
      "grid_row": null,
      "grid_template_areas": null,
      "grid_template_columns": null,
      "grid_template_rows": null,
      "height": null,
      "justify_content": null,
      "justify_items": null,
      "left": null,
      "margin": null,
      "max_height": null,
      "max_width": null,
      "min_height": null,
      "min_width": null,
      "object_fit": null,
      "object_position": null,
      "order": null,
      "overflow": null,
      "overflow_x": null,
      "overflow_y": null,
      "padding": null,
      "right": null,
      "top": null,
      "visibility": null,
      "width": null
     }
    },
    "4c0d7a37f88f45dbbfa518e99eda5a20": {
     "model_module": "@jupyter-widgets/base",
     "model_module_version": "1.2.0",
     "model_name": "LayoutModel",
     "state": {
      "_model_module": "@jupyter-widgets/base",
      "_model_module_version": "1.2.0",
      "_model_name": "LayoutModel",
      "_view_count": null,
      "_view_module": "@jupyter-widgets/base",
      "_view_module_version": "1.2.0",
      "_view_name": "LayoutView",
      "align_content": null,
      "align_items": null,
      "align_self": null,
      "border": null,
      "bottom": null,
      "display": null,
      "flex": null,
      "flex_flow": null,
      "grid_area": null,
      "grid_auto_columns": null,
      "grid_auto_flow": null,
      "grid_auto_rows": null,
      "grid_column": null,
      "grid_gap": null,
      "grid_row": null,
      "grid_template_areas": null,
      "grid_template_columns": null,
      "grid_template_rows": null,
      "height": null,
      "justify_content": null,
      "justify_items": null,
      "left": null,
      "margin": null,
      "max_height": null,
      "max_width": null,
      "min_height": null,
      "min_width": null,
      "object_fit": null,
      "object_position": null,
      "order": null,
      "overflow": null,
      "overflow_x": null,
      "overflow_y": null,
      "padding": null,
      "right": null,
      "top": null,
      "visibility": null,
      "width": null
     }
    },
    "6cd1e59d7f3349019aea2b4cb0e61dd9": {
     "model_module": "@jupyter-widgets/controls",
     "model_module_version": "1.5.0",
     "model_name": "HTMLModel",
     "state": {
      "_dom_classes": [],
      "_model_module": "@jupyter-widgets/controls",
      "_model_module_version": "1.5.0",
      "_model_name": "HTMLModel",
      "_view_count": null,
      "_view_module": "@jupyter-widgets/controls",
      "_view_module_version": "1.5.0",
      "_view_name": "HTMLView",
      "description": "",
      "description_tooltip": null,
      "layout": "IPY_MODEL_4c0d7a37f88f45dbbfa518e99eda5a20",
      "placeholder": "​",
      "style": "IPY_MODEL_deac2ac39a874dbcbf05c4eaccbc1035",
      "value": " 170499072/? [00:16&lt;00:00, 17431031.22it/s]"
     }
    },
    "6e14f9e1c09849a09a0ca9cb78f4cb14": {
     "model_module": "@jupyter-widgets/base",
     "model_module_version": "1.2.0",
     "model_name": "LayoutModel",
     "state": {
      "_model_module": "@jupyter-widgets/base",
      "_model_module_version": "1.2.0",
      "_model_name": "LayoutModel",
      "_view_count": null,
      "_view_module": "@jupyter-widgets/base",
      "_view_module_version": "1.2.0",
      "_view_name": "LayoutView",
      "align_content": null,
      "align_items": null,
      "align_self": null,
      "border": null,
      "bottom": null,
      "display": null,
      "flex": null,
      "flex_flow": null,
      "grid_area": null,
      "grid_auto_columns": null,
      "grid_auto_flow": null,
      "grid_auto_rows": null,
      "grid_column": null,
      "grid_gap": null,
      "grid_row": null,
      "grid_template_areas": null,
      "grid_template_columns": null,
      "grid_template_rows": null,
      "height": null,
      "justify_content": null,
      "justify_items": null,
      "left": null,
      "margin": null,
      "max_height": null,
      "max_width": null,
      "min_height": null,
      "min_width": null,
      "object_fit": null,
      "object_position": null,
      "order": null,
      "overflow": null,
      "overflow_x": null,
      "overflow_y": null,
      "padding": null,
      "right": null,
      "top": null,
      "visibility": null,
      "width": null
     }
    },
    "7f8ac8c9124c44a3a1c48b6033cec862": {
     "model_module": "@jupyter-widgets/base",
     "model_module_version": "1.2.0",
     "model_name": "LayoutModel",
     "state": {
      "_model_module": "@jupyter-widgets/base",
      "_model_module_version": "1.2.0",
      "_model_name": "LayoutModel",
      "_view_count": null,
      "_view_module": "@jupyter-widgets/base",
      "_view_module_version": "1.2.0",
      "_view_name": "LayoutView",
      "align_content": null,
      "align_items": null,
      "align_self": null,
      "border": null,
      "bottom": null,
      "display": null,
      "flex": null,
      "flex_flow": null,
      "grid_area": null,
      "grid_auto_columns": null,
      "grid_auto_flow": null,
      "grid_auto_rows": null,
      "grid_column": null,
      "grid_gap": null,
      "grid_row": null,
      "grid_template_areas": null,
      "grid_template_columns": null,
      "grid_template_rows": null,
      "height": null,
      "justify_content": null,
      "justify_items": null,
      "left": null,
      "margin": null,
      "max_height": null,
      "max_width": null,
      "min_height": null,
      "min_width": null,
      "object_fit": null,
      "object_position": null,
      "order": null,
      "overflow": null,
      "overflow_x": null,
      "overflow_y": null,
      "padding": null,
      "right": null,
      "top": null,
      "visibility": null,
      "width": null
     }
    },
    "8704351f1bb64604b34d1d28a355e0bd": {
     "model_module": "@jupyter-widgets/controls",
     "model_module_version": "1.5.0",
     "model_name": "FloatProgressModel",
     "state": {
      "_dom_classes": [],
      "_model_module": "@jupyter-widgets/controls",
      "_model_module_version": "1.5.0",
      "_model_name": "FloatProgressModel",
      "_view_count": null,
      "_view_module": "@jupyter-widgets/controls",
      "_view_module_version": "1.5.0",
      "_view_name": "ProgressView",
      "bar_style": "success",
      "description": "",
      "description_tooltip": null,
      "layout": "IPY_MODEL_7f8ac8c9124c44a3a1c48b6033cec862",
      "max": 170498071,
      "min": 0,
      "orientation": "horizontal",
      "style": "IPY_MODEL_aa28ab4013c74b6184e4cefe79794dfa",
      "value": 170498071
     }
    },
    "a16d6be6fc2c47ecaaaf6d87d3471ca4": {
     "model_module": "@jupyter-widgets/controls",
     "model_module_version": "1.5.0",
     "model_name": "HBoxModel",
     "state": {
      "_dom_classes": [],
      "_model_module": "@jupyter-widgets/controls",
      "_model_module_version": "1.5.0",
      "_model_name": "HBoxModel",
      "_view_count": null,
      "_view_module": "@jupyter-widgets/controls",
      "_view_module_version": "1.5.0",
      "_view_name": "HBoxView",
      "box_style": "",
      "children": [
       "IPY_MODEL_fb6727955e654298bbf180466e09d7ef",
       "IPY_MODEL_8704351f1bb64604b34d1d28a355e0bd",
       "IPY_MODEL_6cd1e59d7f3349019aea2b4cb0e61dd9"
      ],
      "layout": "IPY_MODEL_3dc61d445084492bb9f17d2f7157c2f6"
     }
    },
    "aa28ab4013c74b6184e4cefe79794dfa": {
     "model_module": "@jupyter-widgets/controls",
     "model_module_version": "1.5.0",
     "model_name": "ProgressStyleModel",
     "state": {
      "_model_module": "@jupyter-widgets/controls",
      "_model_module_version": "1.5.0",
      "_model_name": "ProgressStyleModel",
      "_view_count": null,
      "_view_module": "@jupyter-widgets/base",
      "_view_module_version": "1.2.0",
      "_view_name": "StyleView",
      "bar_color": null,
      "description_width": ""
     }
    },
    "deac2ac39a874dbcbf05c4eaccbc1035": {
     "model_module": "@jupyter-widgets/controls",
     "model_module_version": "1.5.0",
     "model_name": "DescriptionStyleModel",
     "state": {
      "_model_module": "@jupyter-widgets/controls",
      "_model_module_version": "1.5.0",
      "_model_name": "DescriptionStyleModel",
      "_view_count": null,
      "_view_module": "@jupyter-widgets/base",
      "_view_module_version": "1.2.0",
      "_view_name": "StyleView",
      "description_width": ""
     }
    },
    "e971734eefb240949b5b06a8230fdb1d": {
     "model_module": "@jupyter-widgets/controls",
     "model_module_version": "1.5.0",
     "model_name": "DescriptionStyleModel",
     "state": {
      "_model_module": "@jupyter-widgets/controls",
      "_model_module_version": "1.5.0",
      "_model_name": "DescriptionStyleModel",
      "_view_count": null,
      "_view_module": "@jupyter-widgets/base",
      "_view_module_version": "1.2.0",
      "_view_name": "StyleView",
      "description_width": ""
     }
    },
    "fb6727955e654298bbf180466e09d7ef": {
     "model_module": "@jupyter-widgets/controls",
     "model_module_version": "1.5.0",
     "model_name": "HTMLModel",
     "state": {
      "_dom_classes": [],
      "_model_module": "@jupyter-widgets/controls",
      "_model_module_version": "1.5.0",
      "_model_name": "HTMLModel",
      "_view_count": null,
      "_view_module": "@jupyter-widgets/controls",
      "_view_module_version": "1.5.0",
      "_view_name": "HTMLView",
      "description": "",
      "description_tooltip": null,
      "layout": "IPY_MODEL_6e14f9e1c09849a09a0ca9cb78f4cb14",
      "placeholder": "​",
      "style": "IPY_MODEL_e971734eefb240949b5b06a8230fdb1d",
      "value": ""
     }
    }
   }
  }
 },
 "nbformat": 4,
 "nbformat_minor": 5
}
